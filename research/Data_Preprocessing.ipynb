{
 "cells": [
  {
   "cell_type": "code",
   "execution_count": 1,
   "metadata": {},
   "outputs": [],
   "source": [
    "from dataclasses import dataclass\n",
    "from pathlib import Path\n",
    "\n",
    "@dataclass(frozen=True)\n",
    "class DataPreprocessingConfig():\n",
    "    root_dir: Path\n",
    "    input_data_dir: Path\n",
    "    preprocessed_audios_dir: Path\n",
    "    dataframe_dir: Path\n",
    "    num_samples: int\n",
    "    max_overlays: int\n",
    "    metadata_mapping: dict\n",
    "    "
   ]
  },
  {
   "cell_type": "code",
   "execution_count": 2,
   "metadata": {},
   "outputs": [],
   "source": [
    "from Audio_Vision.utils.common import read_yaml, create_directories\n",
    "from Audio_Vision import logger"
   ]
  },
  {
   "cell_type": "code",
   "execution_count": 11,
   "metadata": {},
   "outputs": [],
   "source": [
    "class ConfigurationManager():\n",
    "    def __init__(self):\n",
    "        self.config_filepath = Path(\"config/config.yaml\")\n",
    "        self.params_filepath = Path(\"params.yaml\")\n",
    "\n",
    "        self.config = read_yaml(self.config_filepath)\n",
    "        self.params = read_yaml(self.params_filepath)\n",
    "\n",
    "        create_directories([self.config.artifacts_root])\n",
    "\n",
    "    def get_data_preprocessing_config(self) -> DataPreprocessingConfig:\n",
    "        config = self.config.data_preprocessing\n",
    "        params = self.params\n",
    "\n",
    "        create_directories([config.root_dir])\n",
    "\n",
    "        data_preprocessing_config = DataPreprocessingConfig(\n",
    "            root_dir =  config.root_dir,\n",
    "            input_data_dir = config.input_data_dir,\n",
    "            preprocessed_audios_dir = config.preprocessed_audios_dir,\n",
    "            dataframe_dir = config.dataframe_dir,\n",
    "            num_samples = params.num_samples,\n",
    "            max_overlays = params.max_overlays,\n",
    "            metadata_mapping = params.metadata_mapping\n",
    "        )\n",
    "        return data_preprocessing_config"
   ]
  },
  {
   "cell_type": "code",
   "execution_count": 13,
   "metadata": {},
   "outputs": [
    {
     "name": "stdout",
     "output_type": "stream",
     "text": [
      "Collecting pydub\n",
      "  Using cached pydub-0.25.1-py2.py3-none-any.whl.metadata (1.4 kB)\n",
      "Using cached pydub-0.25.1-py2.py3-none-any.whl (32 kB)\n",
      "Installing collected packages: pydub\n",
      "Successfully installed pydub-0.25.1\n"
     ]
    }
   ],
   "source": [
    "! pip install pydub"
   ]
  },
  {
   "cell_type": "code",
   "execution_count": 12,
   "metadata": {},
   "outputs": [],
   "source": [
    "import os\n",
    "import random\n",
    "import pandas as pd\n",
    "from pydub import AudioSegment"
   ]
  },
  {
   "cell_type": "code",
   "execution_count": 25,
   "metadata": {},
   "outputs": [],
   "source": [
    "class DataPreprocessing():\n",
    "    def __init__(self, config: DataPreprocessingConfig):\n",
    "        self.config = config\n",
    "\n",
    "    def data_preprocessing(self):\n",
    "        \n",
    "        data_dir = self.config.input_data_dir  \n",
    "        output_dir = self.config.preprocessed_audios_dir\n",
    "        dataframe_dir = self.config.dataframe_dir\n",
    " \n",
    "        metadata_mapping = self.config.metadata_mapping\n",
    "        all_audio_files = os.listdir(data_dir)\n",
    "        class_audio_map = {}\n",
    "        for file in all_audio_files:\n",
    "            if file.endswith(\".wav\"):\n",
    "                class_id = file.split(\"_\")[0]  \n",
    "                class_audio_map.setdefault(class_id, []).append(file)\n",
    "\n",
    "        num_samples = self.config.num_samples  \n",
    "        max_overlays = self.config.max_overlays  \n",
    "\n",
    "        data = []\n",
    "        for i in range(num_samples):\n",
    "            num_overlay = random.randint(2, max_overlays)  \n",
    "            selected_classes = random.sample(list(class_audio_map.keys()), num_overlay)  \n",
    "\n",
    "            mixed_audio = None\n",
    "            labels_numeric = []\n",
    "            labels_text = []\n",
    "\n",
    "            for cls in selected_classes:\n",
    "                audio_file = random.choice(class_audio_map[cls])  \n",
    "                audio_path = os.path.join(data_dir, audio_file)\n",
    "                sound = AudioSegment.from_wav(audio_path)  \n",
    "                if mixed_audio is None:\n",
    "                    mixed_audio = sound  \n",
    "                else:\n",
    "                    mixed_audio = mixed_audio.overlay(sound)  \n",
    "\n",
    "                labels_numeric.append(cls) \n",
    "                labels_text.append(metadata_mapping.get(cls, \"unknown\"))  \n",
    "\n",
    "            output_filename = f\"mixed_{i}.wav\"\n",
    "            output_path = os.path.join(output_dir, output_filename)\n",
    "            create_directories([output_dir]) \n",
    "            mixed_audio.export(output_path, format=\"wav\")\n",
    "            data.append({\"file_path\": output_path, \"labels_numeric\": labels_numeric, \"labels_text\": labels_text})\n",
    "\n",
    "        df = pd.DataFrame(data)\n",
    "        df.to_csv(os.path.join(dataframe_dir, \"preprocessed_data.csv\"), index=False)\n",
    "        logger.info(\"Multi-label dataset with metadata mapping created successfully!\")\n"
   ]
  },
  {
   "cell_type": "code",
   "execution_count": 26,
   "metadata": {},
   "outputs": [
    {
     "data": {
      "text/plain": [
       "'c:\\\\Users\\\\kanis\\\\Desktop\\\\Audio_Classification'"
      ]
     },
     "execution_count": 26,
     "metadata": {},
     "output_type": "execute_result"
    }
   ],
   "source": [
    "%pwd"
   ]
  },
  {
   "cell_type": "code",
   "execution_count": 27,
   "metadata": {},
   "outputs": [],
   "source": [
    "os.chdir(r\"c:\\\\Users\\\\kanis\\\\Desktop\\\\Audio_Classification\")"
   ]
  },
  {
   "cell_type": "code",
   "execution_count": 28,
   "metadata": {},
   "outputs": [
    {
     "name": "stdout",
     "output_type": "stream",
     "text": [
      "[2025-02-01 02:42:24,190]: INFO: common: yaml file: config\\config.yaml loaded successfully\n",
      "[2025-02-01 02:42:24,197]: INFO: common: yaml file: params.yaml loaded successfully\n",
      "[2025-02-01 02:47:12,744]: INFO: 2416190755: Multi-label dataset with metadata mapping created successfully!\n"
     ]
    }
   ],
   "source": [
    "try:\n",
    "    config = ConfigurationManager()\n",
    "    data_preprocessing_config = config.get_data_preprocessing_config()\n",
    "    data_preprocessing = DataPreprocessing(config = data_preprocessing_config)\n",
    "    data_preprocessing.data_preprocessing()\n",
    "except Exception as e:\n",
    "    raise e"
   ]
  },
  {
   "cell_type": "code",
   "execution_count": null,
   "metadata": {},
   "outputs": [],
   "source": []
  }
 ],
 "metadata": {
  "kernelspec": {
   "display_name": ".venv",
   "language": "python",
   "name": "python3"
  },
  "language_info": {
   "codemirror_mode": {
    "name": "ipython",
    "version": 3
   },
   "file_extension": ".py",
   "mimetype": "text/x-python",
   "name": "python",
   "nbconvert_exporter": "python",
   "pygments_lexer": "ipython3",
   "version": "3.12.3"
  }
 },
 "nbformat": 4,
 "nbformat_minor": 2
}
